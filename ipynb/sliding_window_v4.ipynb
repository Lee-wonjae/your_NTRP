{
 "cells": [
  {
   "cell_type": "code",
   "execution_count": 3,
   "id": "db5bc6a1",
   "metadata": {},
   "outputs": [
    {
     "name": "stderr",
     "output_type": "stream",
     "text": [
      "C:\\Users\\lwj01\\anaconda3\\Lib\\site-packages\\torchvision\\models\\_utils.py:208: UserWarning: The parameter 'pretrained' is deprecated since 0.13 and may be removed in the future, please use 'weights' instead.\n",
      "  warnings.warn(\n",
      "C:\\Users\\lwj01\\anaconda3\\Lib\\site-packages\\torchvision\\models\\_utils.py:223: UserWarning: Arguments other than a weight enum or `None` for 'weights' are deprecated since 0.13 and may be removed in the future. The current behavior is equivalent to passing `weights=ResNet50_Weights.IMAGENET1K_V1`. You can also use `weights=ResNet50_Weights.DEFAULT` to get the most up-to-date weights.\n",
      "  warnings.warn(msg)\n"
     ]
    }
   ],
   "source": [
    "import torch\n",
    "import torch.nn as nn\n",
    "import torch.optim as optim\n",
    "from torchvision import models, datasets, transforms\n",
    "from torch.utils.data import DataLoader\n",
    "\n",
    "# ResNet50 모델 불러오기\n",
    "model = models.resnet50(pretrained=True)\n",
    "\n",
    "# 마지막 fully connected layer 수정\n",
    "num_ftrs = model.fc.in_features\n",
    "model.fc = nn.Sequential(\n",
    "    nn.Linear(num_ftrs, 1),  # 1개의 출력 (0- 1)\n",
    "    nn.Sigmoid()             # Sigmoid 활성화 함수 추가\n",
    ")\n",
    "\n",
    "model = torch.load('model_v4.pt')  # 모델 불러오기"
   ]
  },
  {
   "cell_type": "code",
   "execution_count": null,
   "id": "be244836",
   "metadata": {},
   "outputs": [
    {
     "name": "stdout",
     "output_type": "stream",
     "text": [
      "Using device: cuda:0\n",
      "Image: frame_000000.jpg, Best Score: 0.7310585379600525, Location: (0, 0)\n",
      "Image: frame_000001.jpg, Best Score: 0.7310585379600525, Location: (0, 0)\n",
      "Image: frame_000002.jpg, Best Score: 0.7310585379600525, Location: (0, 0)\n",
      "Image: frame_000003.jpg, Best Score: 0.7310585379600525, Location: (0, 0)\n",
      "Image: frame_000004.jpg, Best Score: 0.7310585379600525, Location: (0, 0)\n",
      "Image: frame_000005.jpg, Best Score: 0.7310585379600525, Location: (0, 0)\n",
      "Image: frame_000006.jpg, Best Score: 0.7310585379600525, Location: (0, 0)\n",
      "Image: frame_000007.jpg, Best Score: 0.7310585379600525, Location: (0, 0)\n",
      "Image: frame_000008.jpg, Best Score: 0.7310585379600525, Location: (0, 0)\n"
     ]
    }
   ],
   "source": [
    "import os\n",
    "from PIL import Image\n",
    "from torchvision import transforms\n",
    "import torch\n",
    "\n",
    "directory = r'C:\\Users\\lwj01\\HowFastTennisBallIs\\novak_sinner_over_30'\n",
    "save_directory = r'C:\\Users\\lwj01\\HowFastTennisBallIs\\y_v4'  # 저장할 경로\n",
    "\n",
    "# CUDA 사용 가능 여부 확인 및 모델을 GPU로 이동\n",
    "device = torch.device(\"cuda:0\" if torch.cuda.is_available() else \"cpu\")\n",
    "print(f\"Using device: {device}\")\n",
    "model = model.to(device)\n",
    "\n",
    "def sliding_window(image, step_size, window_size):\n",
    "    \"\"\"이미지 위에서 슬라이딩 윈도우를 생성하는 함수\"\"\"\n",
    "    for y in range(0, image.size[1] - window_size[1], step_size):\n",
    "        for x in range(0, image.size[0] - window_size[0], step_size):\n",
    "            yield (x, y, image.crop((x, y, x + window_size[0], y + window_size[1])))\n",
    "\n",
    "def detect_objects_per_image(model, image_path, window_size=(30, 30), step_size=10):\n",
    "    \"\"\"하나의 이미지에 대해 객체를 탐지하는 함수\"\"\"\n",
    "    model.eval()  # 모델을 평가 모드로 설정\n",
    "    transform = transforms.Compose([transforms.Resize(window_size), transforms.ToTensor()])\n",
    "\n",
    "    best_score = 0\n",
    "    best_window = None\n",
    "    best_location = None\n",
    "\n",
    "    image = Image.open(image_path).convert('RGB')\n",
    "    for (x, y, window) in sliding_window(image, step_size, window_size):\n",
    "        window_tensor = transform(window).unsqueeze(0).to(device)  # 모델에 입력하기 위해 차원 추가\n",
    "        output = model(window_tensor)\n",
    "        \n",
    "        score = torch.sigmoid(output[0][0]).item()\n",
    "        if score > best_score:\n",
    "            best_score = score\n",
    "            best_window = window\n",
    "            best_location = (x, y)\n",
    "\n",
    "    return best_score, best_location, best_window\n",
    "\n",
    "# 모든 이미지에 대해 객체 탐지 실행\n",
    "for filename in os.listdir(directory):\n",
    "    if filename.endswith('.jpg'):\n",
    "        image_path = os.path.join(directory, filename)\n",
    "        score, location, window = detect_objects_per_image(model, image_path)\n",
    "        print(f\"Image: {filename}, Best Score: {score}, Location: {location}\")\n",
    "        if window is not None:\n",
    "            save_path = os.path.join(save_directory, f\"detected_{filename}\")\n",
    "            window.save(save_path)  # 윈도우 이미지를 지정된 경로에 저장\n"
   ]
  },
  {
   "cell_type": "code",
   "execution_count": null,
   "id": "fa0b915a",
   "metadata": {},
   "outputs": [],
   "source": []
  }
 ],
 "metadata": {
  "kernelspec": {
   "display_name": "Python 3 (ipykernel)",
   "language": "python",
   "name": "python3"
  },
  "language_info": {
   "codemirror_mode": {
    "name": "ipython",
    "version": 3
   },
   "file_extension": ".py",
   "mimetype": "text/x-python",
   "name": "python",
   "nbconvert_exporter": "python",
   "pygments_lexer": "ipython3",
   "version": "3.11.5"
  }
 },
 "nbformat": 4,
 "nbformat_minor": 5
}
