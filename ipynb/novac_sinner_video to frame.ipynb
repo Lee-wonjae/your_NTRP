{
 "cells": [
  {
   "cell_type": "code",
   "execution_count": 1,
   "id": "2e8cdd88",
   "metadata": {},
   "outputs": [
    {
     "name": "stdout",
     "output_type": "stream",
     "text": [
      "프레임 단위 이미지로 저장 완료. 총 11063 프레임 저장됨.\n"
     ]
    }
   ],
   "source": [
    "import cv2\n",
    "import os\n",
    "\n",
    "# 영상 파일 경로\n",
    "video_path = 'novak_sinner.mp4'\n",
    "\n",
    "# 저장할 이미지 폴더 경로 설정\n",
    "output_folder = 'novak_sinner_frame'\n",
    "os.makedirs(output_folder, exist_ok=True)\n",
    "\n",
    "# OpenCV VideoCapture를 사용하여 영상 열기\n",
    "cap = cv2.VideoCapture(video_path)\n",
    "\n",
    "# 프레임 카운터 초기화\n",
    "frame_count = 0\n",
    "\n",
    "# 영상을 읽어 프레임 단위로 이미지로 저장\n",
    "while cap.isOpened():\n",
    "    ret, frame = cap.read()\n",
    "    if not ret:\n",
    "        break\n",
    "    \n",
    "    # 이미지 파일로 저장 (프레임당 이미지 이름은 'frame_xxx.jpg' 형태로 저장됨)\n",
    "    image_filename = os.path.join(output_folder, f'frame_{frame_count:06d}.jpg')\n",
    "    cv2.imwrite(image_filename, frame)\n",
    "    \n",
    "    frame_count += 1\n",
    "\n",
    "# 작업 완료 후 VideoCapture 해제\n",
    "cap.release()\n",
    "\n",
    "print(f'프레임 단위 이미지로 저장 완료. 총 {frame_count} 프레임 저장됨.')\n"
   ]
  },
  {
   "cell_type": "code",
   "execution_count": null,
   "id": "da053389",
   "metadata": {},
   "outputs": [],
   "source": []
  }
 ],
 "metadata": {
  "kernelspec": {
   "display_name": "Python 3 (ipykernel)",
   "language": "python",
   "name": "python3"
  },
  "language_info": {
   "codemirror_mode": {
    "name": "ipython",
    "version": 3
   },
   "file_extension": ".py",
   "mimetype": "text/x-python",
   "name": "python",
   "nbconvert_exporter": "python",
   "pygments_lexer": "ipython3",
   "version": "3.11.5"
  }
 },
 "nbformat": 4,
 "nbformat_minor": 5
}
