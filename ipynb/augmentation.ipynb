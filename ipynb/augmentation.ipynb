{
 "cells": [
  {
   "cell_type": "code",
   "execution_count": 25,
   "id": "f388bfa8",
   "metadata": {},
   "outputs": [],
   "source": [
    "from torchvision import transforms\n",
    "from PIL import Image\n",
    "import os\n",
    "\n",
    "augmentations = transforms.Compose([\n",
    "    transforms.Resize((30, 30)),  # 이미지를 30x30으로 리사이즈\n",
    "    transforms.RandomHorizontalFlip(),  # 50% 확률로 이미지를 수평으로 뒤집기\n",
    "    transforms.RandomRotation(10),  # 이미지를 무작위로 최대 10도 회전\n",
    "    # 여기에 추가 증강 기법을 포함할 수 있습니다.\n",
    "])\n",
    "\n",
    "def augment_images_in_directory(input_directory, output_directory, num_copies=50):\n",
    "    # 입력 디렉토리에서 이미지 파일 목록을 가져옵니다.\n",
    "    image_files = [f for f in os.listdir(input_directory) if f.lower().endswith(('.jpg'))]\n",
    "\n",
    "    # 출력 디렉토리가 없으면 생성합니다.\n",
    "    if not os.path.exists(output_directory):\n",
    "        os.makedirs(output_directory)\n",
    "\n",
    "    # 모든 이미지 파일에 대해 증강을 수행합니다.\n",
    "    for image_file in image_files:\n",
    "        image_path = os.path.join(input_directory, image_file)\n",
    "        image = Image.open(image_path)\n",
    "\n",
    "        # 지정된 횟수만큼 이미지 증강을 수행하고 저장합니다.\n",
    "        for i in range(num_copies):\n",
    "            transformed_image = augmentations(image)\n",
    "            name, ext = os.path.splitext(image_file)\n",
    "            new_filename = f\"{name}_aug_{i+1}{ext}\"\n",
    "            transformed_image_path = os.path.join(output_directory, new_filename)\n",
    "            transformed_image.save(transformed_image_path)"
   ]
  },
  {
   "cell_type": "code",
   "execution_count": 31,
   "id": "9b2c5043",
   "metadata": {},
   "outputs": [
    {
     "name": "stdout",
     "output_type": "stream",
     "text": [
      "['cropped_frame_000000.jpg', 'cropped_frame_000002.jpg', 'cropped_frame_000003.jpg', 'cropped_frame_000004.jpg', 'cropped_frame_000005.jpg', 'cropped_frame_000006.jpg', 'cropped_frame_000007.jpg', 'cropped_frame_000008.jpg', 'cropped_frame_000009.jpg', 'cropped_frame_000010.jpg', 'cropped_frame_000011.jpg', 'cropped_frame_000012.jpg', 'cropped_frame_000013.jpg', 'cropped_frame_000014.jpg', 'cropped_frame_000015.jpg', 'cropped_frame_000018.jpg', 'cropped_frame_000019.jpg', 'cropped_frame_000022.jpg', 'cropped_frame_000023.jpg', 'cropped_frame_000025.jpg', 'cropped_frame_000026.jpg', 'cropped_frame_000027.jpg', 'cropped_frame_000031.jpg', 'cropped_frame_000032.jpg', 'cropped_frame_000050.jpg', 'cropped_frame_000051.jpg', 'cropped_frame_000052.jpg', 'cropped_frame_000054.jpg', 'cropped_frame_000055.jpg', 'cropped_frame_000056.jpg', 'cropped_frame_000057.jpg', 'cropped_frame_000058.jpg', 'cropped_frame_000059.jpg', 'cropped_frame_000060.jpg', 'cropped_frame_000061.jpg', 'cropped_frame_000062.jpg', 'cropped_frame_000072.jpg', 'cropped_frame_000073.jpg', 'cropped_frame_000074.jpg', 'cropped_frame_000080.jpg', 'cropped_frame_000081.jpg', 'cropped_frame_000101.jpg', 'cropped_frame_000102.jpg', 'cropped_frame_000104.jpg', 'cropped_frame_000105.jpg', 'cropped_frame_000109.jpg', 'cropped_frame_000117.jpg', 'cropped_frame_000119.jpg', 'cropped_frame_000120.jpg', 'cropped_frame_000137.jpg', 'cropped_frame_000138.jpg', 'cropped_frame_000240.jpg', 'cropped_frame_000241.jpg', 'cropped_frame_000242.jpg', 'cropped_frame_000244.jpg', 'cropped_frame_000245.jpg', 'cropped_frame_000250.jpg', 'cropped_frame_000256.jpg']\n"
     ]
    }
   ],
   "source": [
    "input_directory  = 'novak_sinner_over_30/cropped_ball'  # 이미지 파일 경로\n",
    "output_directory = 'novak_sinner_over_30/cropped_ball/augmentation'  # 저장할 디렉토리 경로\n",
    "num_copies = 50  # 생성할 이미지 복사본 수\n",
    "augment_images_in_directory(input_directory , output_directory, num_copies)\n"
   ]
  },
  {
   "cell_type": "code",
   "execution_count": 43,
   "id": "e15107c6",
   "metadata": {},
   "outputs": [],
   "source": [
    "import shutil\n",
    "\n",
    "for file_name in os.listdir(input_directory):\n",
    "    source_path = os.path.join(input_directory, file_name)\n",
    "    \n",
    "    # 파일만 선택 (하위 폴더는 제외)\n",
    "    if os.path.isfile(source_path):\n",
    "        destination_path = os.path.join(output_directory, file_name)\n",
    "        shutil.move(source_path, destination_path)"
   ]
  },
  {
   "cell_type": "code",
   "execution_count": null,
   "id": "27f88da7",
   "metadata": {},
   "outputs": [],
   "source": []
  }
 ],
 "metadata": {
  "kernelspec": {
   "display_name": "Python 3 (ipykernel)",
   "language": "python",
   "name": "python3"
  },
  "language_info": {
   "codemirror_mode": {
    "name": "ipython",
    "version": 3
   },
   "file_extension": ".py",
   "mimetype": "text/x-python",
   "name": "python",
   "nbconvert_exporter": "python",
   "pygments_lexer": "ipython3",
   "version": "3.11.5"
  }
 },
 "nbformat": 4,
 "nbformat_minor": 5
}
