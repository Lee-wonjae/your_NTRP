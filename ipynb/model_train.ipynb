{
 "cells": [
  {
   "cell_type": "code",
   "execution_count": 1,
   "id": "160991b7",
   "metadata": {},
   "outputs": [],
   "source": [
    "import torch\n",
    "import torch.nn as nn\n",
    "import torch.nn.functional as F\n",
    "\n",
    "class BinaryClassificationCNN(nn.Module):\n",
    "    def __init__(self):\n",
    "        super(BinaryClassificationCNN, self).__init__()\n",
    "        # 첫 번째 Convolutional 레이어: 3개의 입력 채널(RGB), 32개의 출력 채널, 3x3 커널\n",
    "        self.conv1 = nn.Conv2d(3, 32, kernel_size=3, padding=1)\n",
    "        # 두 번째 Convolutional 레이어\n",
    "        self.conv2 = nn.Conv2d(32, 64, kernel_size=3, padding=1)\n",
    "        # 세 번째 Convolutional 레이어\n",
    "        self.conv3 = nn.Conv2d(64, 128, kernel_size=3, padding=1)\n",
    "        # Pooling 레이어\n",
    "        self.pool = nn.MaxPool2d(kernel_size=2, stride=2)\n",
    "        # Dropout 레이어\n",
    "        self.dropout = nn.Dropout(0.5)\n",
    "        # 첫 번째 Fully Connected 레이어\n",
    "        self.fc1 = nn.Linear(128 * 3 * 3, 128)\n",
    "        # 두 번째 Fully Connected 레이어\n",
    "        self.fc2 = nn.Linear(128, 1)\n",
    "    \n",
    "    def forward(self, x):\n",
    "        # Convolutional 레이어와 활성화 함수 적용\n",
    "        x = F.relu(self.conv1(x))\n",
    "        x = self.pool(x)\n",
    "        x = F.relu(self.conv2(x))\n",
    "        x = self.pool(x)\n",
    "        x = F.relu(self.conv3(x))\n",
    "        x = self.pool(x)\n",
    "        # Flatten\n",
    "        x = x.view(-1, 128 * 3 * 3)\n",
    "        # Dropout 적용\n",
    "        x = self.dropout(x)\n",
    "        # Fully Connected 레이어와 활성화 함수 적용\n",
    "        x = F.relu(self.fc1(x))\n",
    "        x = self.dropout(x)\n",
    "        # 출력 레이어\n",
    "        x = torch.sigmoid(self.fc2(x))\n",
    "        return x\n",
    "\n",
    "# 모델 인스턴스화\n",
    "model = BinaryClassificationCNN()"
   ]
  },
  {
   "cell_type": "code",
   "execution_count": null,
   "id": "cf6520b3",
   "metadata": {},
   "outputs": [],
   "source": []
  }
 ],
 "metadata": {
  "kernelspec": {
   "display_name": "Python 3 (ipykernel)",
   "language": "python",
   "name": "python3"
  },
  "language_info": {
   "codemirror_mode": {
    "name": "ipython",
    "version": 3
   },
   "file_extension": ".py",
   "mimetype": "text/x-python",
   "name": "python",
   "nbconvert_exporter": "python",
   "pygments_lexer": "ipython3",
   "version": "3.11.5"
  }
 },
 "nbformat": 4,
 "nbformat_minor": 5
}
