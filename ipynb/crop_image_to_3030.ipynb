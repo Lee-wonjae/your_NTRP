{
 "cells": [
  {
   "cell_type": "code",
   "execution_count": 4,
   "id": "f3610c8c",
   "metadata": {},
   "outputs": [],
   "source": [
    "from PIL import Image\n",
    "import os\n",
    "\n",
    "def crop_image_to_30x30_tiles(directory, output_directory):\n",
    "    \n",
    "    supported_formats = ['.jpg', '.jpeg', '.png', '.bmp', '.gif']\n",
    "    \n",
    "    if not os.path.exists(output_directory):\n",
    "        os.makedirs(output_directory)\n",
    "\n",
    "    for filename in os.listdir(directory):\n",
    "        if any(filename.endswith(ext) for ext in supported_formats):\n",
    "            image_path = os.path.join(directory, filename)\n",
    "            image = Image.open(image_path)\n",
    "            image_width, image_height = image.size\n",
    "\n",
    "            # 30x30 픽셀 크기로 이미지를 자릅니다.\n",
    "            for i in range(0, image_width, 30):\n",
    "                for j in range(0, image_height, 30):\n",
    "                    box = (i, j, i+30, j+30)\n",
    "                    cropped_image = image.crop(box)\n",
    "                    \n",
    "                    # 잘라낸 이미지 저장\n",
    "                    cropped_image_path = os.path.join(output_directory, f'cropped_{filename}_{i}_{j}.png')\n",
    "                    cropped_image.save(cropped_image_path)"
   ]
  },
  {
   "cell_type": "code",
   "execution_count": 5,
   "id": "dc82beac",
   "metadata": {
    "scrolled": true
   },
   "outputs": [],
   "source": [
    "directory = 'novak_sinner_over_30/black_xml_area' # 이미지 디렉터리\n",
    "output_directory = 'novak_sinner_over_30/cropped_baseground' # 잘라낸 이미지를 저장할 경로\n",
    "crop_image_to_30x30_tiles(directory, output_directory)"
   ]
  },
  {
   "cell_type": "code",
   "execution_count": null,
   "id": "54767532",
   "metadata": {},
   "outputs": [],
   "source": []
  }
 ],
 "metadata": {
  "kernelspec": {
   "display_name": "Python 3 (ipykernel)",
   "language": "python",
   "name": "python3"
  },
  "language_info": {
   "codemirror_mode": {
    "name": "ipython",
    "version": 3
   },
   "file_extension": ".py",
   "mimetype": "text/x-python",
   "name": "python",
   "nbconvert_exporter": "python",
   "pygments_lexer": "ipython3",
   "version": "3.11.5"
  }
 },
 "nbformat": 4,
 "nbformat_minor": 5
}
